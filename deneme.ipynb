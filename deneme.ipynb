print("Hello world.This is my first experience in github")
